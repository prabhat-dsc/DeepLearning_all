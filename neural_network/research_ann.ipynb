{
 "cells": [
  {
   "cell_type": "code",
   "execution_count": 26,
   "id": "d980b0c7",
   "metadata": {},
   "outputs": [],
   "source": [
    "import tensorflow as tf\n",
    "import numpy as np\n",
    "import pandas as pd\n",
    "import keras\n",
    "import matplotlib.pyplot as plt\n",
    "import seaborn as sns\n",
    "import os ,sys\n"
   ]
  },
  {
   "cell_type": "code",
   "execution_count": 27,
   "id": "43a310ec",
   "metadata": {},
   "outputs": [
    {
     "name": "stdout",
     "output_type": "stream",
     "text": [
      "['20,70,5.5,0\\n', '25,80,5.2,1\\n', '30,78,6.1,0\\n', '55,64,5.7,1\\n', '60,79,6.0,0\\n', '75,60,5.5,1\\n', '45,89,5.8,1\\n', '60,80,5.6,0\\n', '55,80,5.5,1\\n', '60,68,5.7,0']\n"
     ]
    }
   ],
   "source": [
    "f=open(\"report.txt\",\"r\")\n",
    "h=f.readline()\n",
    "lines=f.readlines()\n",
    "print(lines)"
   ]
  },
  {
   "cell_type": "code",
   "execution_count": 28,
   "id": "9d2bcfdb",
   "metadata": {},
   "outputs": [
    {
     "name": "stdout",
     "output_type": "stream",
     "text": [
      "[20, 25, 30, 55, 60, 75, 45, 60, 55, 60]\n",
      "[70, 80, 78, 64, 79, 60, 89, 80, 80, 68]\n",
      "[5.5, 5.2, 6.1, 5.7, 6.0, 5.5, 5.8, 5.6, 5.5, 5.7]\n",
      "[0, 1, 0, 1, 0, 1, 1, 0, 1, 0]\n"
     ]
    }
   ],
   "source": [
    "age=[]\n",
    "wt=[]\n",
    "ht=[]\n",
    "db=[]\n",
    "for line in lines:\n",
    "    w=line.strip().split(',')\n",
    "    a=int(w[0])\n",
    "    wg=int(w[1])\n",
    "    h=float(w[2])\n",
    "    l=int(w[-1])\n",
    "    age.append(a)\n",
    "    wt.append(wg)\n",
    "    ht.append(h)\n",
    "    db.append(l)\n",
    "print(age)\n",
    "print(wt)\n",
    "print(ht)\n",
    "print(db)"
   ]
  },
  {
   "cell_type": "code",
   "execution_count": 29,
   "id": "5a34768b",
   "metadata": {},
   "outputs": [
    {
     "name": "stdout",
     "output_type": "stream",
     "text": [
      "x: input feature \n",
      " [[20.  70.   5.5]\n",
      " [25.  80.   5.2]\n",
      " [30.  78.   6.1]\n",
      " [55.  64.   5.7]\n",
      " [60.  79.   6. ]\n",
      " [75.  60.   5.5]\n",
      " [45.  89.   5.8]\n",
      " [60.  80.   5.6]\n",
      " [55.  80.   5.5]\n",
      " [60.  68.   5.7]]\n",
      "\n",
      "--------------------------------------------------\n",
      "y ::target \n",
      " [[0]\n",
      " [1]\n",
      " [0]\n",
      " [1]\n",
      " [0]\n",
      " [1]\n",
      " [1]\n",
      " [0]\n",
      " [1]\n",
      " [0]]\n"
     ]
    }
   ],
   "source": [
    "x=np.c_[age,wt,ht]\n",
    "y=np.c_[db]\n",
    "print(\"x: input feature \\n\",x)\n",
    "print()\n",
    "print('-'*50)\n",
    "print(\"y ::target \\n\",y)\n"
   ]
  },
  {
   "cell_type": "code",
   "execution_count": 30,
   "id": "dfe687bc",
   "metadata": {},
   "outputs": [],
   "source": [
    "def std_dev(x):\n",
    "    x=np.array(x)\n",
    "    return ((((x-x.mean())**2).sum())/(x.size-1))**0.5\n",
    "\n",
    "def scale(x):\n",
    "    return (x-x.mean())/std_dev(x)\n",
    "\n",
    "def sigmoid(x,w):\n",
    "    z=x.dot(w)\n",
    "    sig= 1/(1+np.exp(-z))\n",
    "    return sig\n",
    "\n",
    "def sigmoid_fun(x):   #  x= x.w\n",
    "    return 1/(1+np.exp(-x))\n",
    "\n",
    "def scale_matrix(x):\n",
    "    ncol=x.shape[1]\n",
    "    for i in range(ncol):\n",
    "        x[:,i]=scale(x[:,i])\n",
    "    return x    \n",
    "        \n",
    "def predict(x,w):  # w=[w1,w2,w3,w4]\n",
    "    r=x\n",
    "    for v in w:\n",
    "        r=sigmoid_fun(r.dot(v))\n",
    "    return r   \n",
    "\n",
    "def derivative(x):\n",
    "    return x*(1-x) \n"
   ]
  },
  {
   "cell_type": "code",
   "execution_count": 31,
   "id": "17f06d33",
   "metadata": {},
   "outputs": [],
   "source": [
    "# 3,5,7,5,1\n",
    "# Random Initailization of weights\n",
    "np.random.seed(100)\n",
    "w1=2*np.random.random((3,5))-1\n",
    "w2=2*np.random.random((5,7))-1\n",
    "w3=2*np.random.random((7,5))-1\n",
    "w4=2*np.random.random((5,1))-1\n",
    "w=[w1,w2,w3,w4]"
   ]
  },
  {
   "cell_type": "code",
   "execution_count": 44,
   "id": "8f069f32",
   "metadata": {},
   "outputs": [
    {
     "data": {
      "text/plain": [
       "array([[-1.58701123, -0.53830365, -0.60764362],\n",
       "       [-1.30858821,  0.58316229, -1.74697541],\n",
       "       [-1.03016519,  0.3588691 ,  1.67101996],\n",
       "       [ 0.36194993, -1.21118322,  0.15191091],\n",
       "       [ 0.64037295,  0.4710157 ,  1.29124269],\n",
       "       [ 1.47564202, -1.65976959, -0.60764362],\n",
       "       [-0.19489612,  1.59248164,  0.53168817],\n",
       "       [ 0.64037295,  0.58316229, -0.22786636],\n",
       "       [ 0.36194993,  0.58316229, -0.60764362],\n",
       "       [ 0.64037295, -0.76259684,  0.15191091]])"
      ]
     },
     "execution_count": 44,
     "metadata": {},
     "output_type": "execute_result"
    }
   ],
   "source": [
    "X=scale_matrix(x)\n",
    "X"
   ]
  },
  {
   "cell_type": "code",
   "execution_count": 33,
   "id": "086467b7",
   "metadata": {},
   "outputs": [],
   "source": [
    "def train(x,y,w,iter,conv=0.0001):\n",
    "    perr=0\n",
    "    for i in range(iter):\n",
    "        l1=sigmoid(x,w[0])\n",
    "        l2=sigmoid(l1,w[1])\n",
    "        l3=sigmoid(l2,w[2])\n",
    "        l4=sigmoid(l3,w[3])\n",
    "        cerr=((y-l4)**2).mean()\n",
    "        diff=abs(perr-cerr)\n",
    "        j=0\n",
    "        if diff<=conv:\n",
    "            print(\"Training is completed\")\n",
    "            j=1\n",
    "            break\n",
    "        if i%100==0:\n",
    "            print(f\"current error is ::{cerr} at {i+1} iteration\") \n",
    "        e4=(y-l4)\n",
    "        d4=e4*derivative(l4)\n",
    "        e3=d4.dot(w[3].T)\n",
    "        d3=e3*derivative(l3)\n",
    "        e2=d3.dot(w[2].T)\n",
    "        d2=e2*derivative(l2)\n",
    "        e1=d2.dot(w[1].T)\n",
    "        d1=e1*derivative(l1)\n",
    "\n",
    "        w[0]+=x.T.dot(d1)\n",
    "        w[1]+=l1.T.dot(d2)\n",
    "        w[2]+=l2.T.dot(d3)\n",
    "        w[3]+=l3.T.dot(d4)    \n",
    "        \n",
    "        perr=cerr\n",
    "    if j==0:\n",
    "        print('Training not completed successfully')\n",
    "    return w    \n",
    "\n",
    "\n",
    "\n"
   ]
  },
  {
   "cell_type": "code",
   "execution_count": 34,
   "id": "2ea92efe",
   "metadata": {},
   "outputs": [
    {
     "name": "stdout",
     "output_type": "stream",
     "text": [
      "current error is ::0.2499556346536481 at 1 iteration\n",
      "current error is ::0.17350417197515552 at 101 iteration\n",
      "current error is ::0.15003452293393274 at 201 iteration\n",
      "current error is ::0.04562875422976303 at 301 iteration\n",
      "Training is completed\n"
     ]
    }
   ],
   "source": [
    "beta=train(X,y,w,1000)\n"
   ]
  },
  {
   "cell_type": "code",
   "execution_count": 35,
   "id": "6096f5ab",
   "metadata": {},
   "outputs": [
    {
     "data": {
      "text/plain": [
       "[array([[-1.97780436,  2.19166763,  1.10289161,  1.42472296, -3.46535139],\n",
       "        [-2.95300968,  2.09286216,  2.25397134, -1.65837914,  1.74408826],\n",
       "        [ 3.07825154,  2.2530343 , -0.76894683,  0.34998355, -1.61054131]]),\n",
       " array([[ 3.98265789,  0.67465284, -1.32534868,  0.63865744,  0.11173327,\n",
       "          0.13386656,  0.42961088],\n",
       "        [ 1.40691729,  0.32482185, -0.86169712, -0.40589894, -3.60140116,\n",
       "         -2.29369654,  0.85550534],\n",
       "        [-1.14796138,  0.35616503,  1.27585953, -1.81369951, -2.31528613,\n",
       "         -2.33898088,  0.91585458],\n",
       "        [ 3.56651406, -1.40303461,  2.81925383, -2.3950441 ,  1.60228639,\n",
       "          1.03148972, -0.85910384],\n",
       "        [-3.38170097, -1.34378581,  0.89549158,  0.16692727, -1.69342946,\n",
       "         -1.24778487,  0.45453077]]),\n",
       " array([[ 3.76208018, -0.22418747, -2.08805272,  1.45330213, -2.91558274],\n",
       "        [ 0.37630885, -1.24365052, -1.11371174, -0.49304696, -0.68777283],\n",
       "        [-2.07491592,  0.74553419,  1.1864003 , -1.58548262,  2.08697339],\n",
       "        [ 1.15987767, -0.18158757, -0.5851765 , -0.07254226, -1.04751471],\n",
       "        [-3.35397568,  0.22425158,  0.24201215, -0.22805199,  2.7752503 ],\n",
       "        [-1.95952829,  0.9303522 ,  0.26243899, -1.68823888,  1.21800347],\n",
       "        [-0.12291727, -1.09518467,  0.15318617,  0.93633162, -0.34424752]]),\n",
       " array([[-5.24996835],\n",
       "        [ 1.32562993],\n",
       "        [ 2.43967295],\n",
       "        [-1.93821735],\n",
       "        [ 4.31999106]])]"
      ]
     },
     "execution_count": 35,
     "metadata": {},
     "output_type": "execute_result"
    }
   ],
   "source": [
    "beta"
   ]
  },
  {
   "cell_type": "code",
   "execution_count": 36,
   "id": "4c7fbda6",
   "metadata": {},
   "outputs": [
    {
     "data": {
      "text/plain": [
       "array([[0.04845489],\n",
       "       [0.98444334],\n",
       "       [0.00284797],\n",
       "       [0.89355151],\n",
       "       [0.00689762],\n",
       "       [0.95064926],\n",
       "       [0.94290195],\n",
       "       [0.08350869],\n",
       "       [0.91928023],\n",
       "       [0.11182575]])"
      ]
     },
     "execution_count": 36,
     "metadata": {},
     "output_type": "execute_result"
    }
   ],
   "source": [
    "ycap=predict(X,beta)\n",
    "ycap"
   ]
  },
  {
   "cell_type": "code",
   "execution_count": 37,
   "id": "faa1b96f",
   "metadata": {},
   "outputs": [
    {
     "data": {
      "text/plain": [
       "array([[0.],\n",
       "       [1.],\n",
       "       [0.],\n",
       "       [1.],\n",
       "       [0.],\n",
       "       [1.],\n",
       "       [1.],\n",
       "       [0.],\n",
       "       [1.],\n",
       "       [0.]])"
      ]
     },
     "execution_count": 37,
     "metadata": {},
     "output_type": "execute_result"
    }
   ],
   "source": [
    "ycap[ycap>=0.5]=1\n",
    "ycap[ycap<0.5]=0\n",
    "ycap"
   ]
  },
  {
   "cell_type": "code",
   "execution_count": 38,
   "id": "39813256",
   "metadata": {},
   "outputs": [
    {
     "data": {
      "text/plain": [
       "array([[0., 0.],\n",
       "       [1., 1.],\n",
       "       [0., 0.],\n",
       "       [1., 1.],\n",
       "       [0., 0.],\n",
       "       [1., 1.],\n",
       "       [1., 1.],\n",
       "       [0., 0.],\n",
       "       [1., 1.],\n",
       "       [0., 0.]])"
      ]
     },
     "execution_count": 38,
     "metadata": {},
     "output_type": "execute_result"
    }
   ],
   "source": [
    "np.c_[y,ycap]"
   ]
  },
  {
   "cell_type": "code",
   "execution_count": 39,
   "id": "623380d8",
   "metadata": {},
   "outputs": [
    {
     "data": {
      "text/plain": [
       "1.0"
      ]
     },
     "execution_count": 39,
     "metadata": {},
     "output_type": "execute_result"
    }
   ],
   "source": [
    "def accuracy(y,ycap):\n",
    "    r=y==ycap\n",
    "    pcnt=r[r==True].size\n",
    "    n=y.size\n",
    "    return pcnt/n\n",
    "\n",
    "accuracy(y,ycap)\n"
   ]
  },
  {
   "cell_type": "code",
   "execution_count": 40,
   "id": "e4a86fdb",
   "metadata": {},
   "outputs": [
    {
     "data": {
      "text/plain": [
       "[10, 20, 30, 40, 50, 60]"
      ]
     },
     "execution_count": 40,
     "metadata": {},
     "output_type": "execute_result"
    }
   ],
   "source": [
    "l=[10,20,30,40,50,60]\n",
    "l\n"
   ]
  },
  {
   "cell_type": "code",
   "execution_count": 41,
   "id": "8dd18337",
   "metadata": {},
   "outputs": [],
   "source": [
    "l.clear()\n"
   ]
  },
  {
   "cell_type": "code",
   "execution_count": 43,
   "id": "93bbad69",
   "metadata": {},
   "outputs": [
    {
     "data": {
      "text/plain": [
       "0.5112930790821065"
      ]
     },
     "execution_count": 43,
     "metadata": {},
     "output_type": "execute_result"
    }
   ],
   "source": [
    "sigmoid_fun(0.04518)"
   ]
  },
  {
   "cell_type": "code",
   "execution_count": 45,
   "id": "31e74890",
   "metadata": {},
   "outputs": [],
   "source": [
    "def tanh(x):\n",
    "    num=np.exp(x)-np.exp(-x)\n",
    "    den=np.exp(x)+np.exp(-x)\n",
    "    return num/den"
   ]
  },
  {
   "cell_type": "code",
   "execution_count": 50,
   "id": "09eafb51",
   "metadata": {},
   "outputs": [
    {
     "name": "stdout",
     "output_type": "stream",
     "text": [
      "(10, 3) (3, 5)\n"
     ]
    },
    {
     "data": {
      "text/plain": [
       "array([[ 2.85793373, -5.9738384 , -2.49637674, -1.58100506,  5.53933765],\n",
       "       [-4.51158216, -5.58350764,  1.21453134, -3.44289249,  8.36538054],\n",
       "       [ 6.12154102,  2.25814915, -1.61220537, -1.47801154,  1.50453707],\n",
       "       [ 3.32838959, -1.3993051 , -2.44759212,  2.57744567, -3.61135292],\n",
       "       [ 1.31732348,  5.29846967,  0.77502086,  0.58314514, -3.47722406],\n",
       "       [ 0.11230454, -1.60859404, -1.64635425,  4.64224307, -7.02976765],\n",
       "       [-2.68047738,  4.10360873,  2.96561874, -2.73252919,  2.5965063 ],\n",
       "       [-3.69004627,  2.11057224,  2.19591016, -0.1344996 , -0.83504262],\n",
       "       [-4.30842995,  0.64471031,  2.18086826, -0.66409107,  0.74143797],\n",
       "       [ 1.45304341,  0.14973508, -1.12942087,  2.23019506, -3.79381229]])"
      ]
     },
     "execution_count": 50,
     "metadata": {},
     "output_type": "execute_result"
    }
   ],
   "source": [
    "print(X.shape, w1.shape)\n",
    "z=X.dot(w1)\n",
    "z"
   ]
  },
  {
   "cell_type": "code",
   "execution_count": 52,
   "id": "68c09fc9",
   "metadata": {},
   "outputs": [
    {
     "data": {
      "text/plain": [
       "0.9934350353831833"
      ]
     },
     "execution_count": 52,
     "metadata": {},
     "output_type": "execute_result"
    }
   ],
   "source": [
    "tanh(2.85793373)"
   ]
  },
  {
   "cell_type": "code",
   "execution_count": 51,
   "id": "dfa9cdc9",
   "metadata": {},
   "outputs": [
    {
     "data": {
      "text/plain": [
       "array([[ 0.99343504, -0.99998705, -0.9865176 , -0.91875871,  0.99996912],\n",
       "       [-0.99975886, -0.99997173,  0.8380336 , -0.99795766,  0.99999989],\n",
       "       [ 0.99999036,  0.97837751, -0.92348527, -0.90109477,  0.90596477],\n",
       "       [ 0.99743274, -0.88520135, -0.98514608,  0.98852401, -0.99854141],\n",
       "       [ 0.86611677,  0.99995002,  0.64983951,  0.52494763, -0.99809306],\n",
       "       [ 0.11183477, -0.92295199, -0.92835564,  0.99981431, -0.99999843],\n",
       "       [-0.99065107,  0.99945479,  0.99470367, -0.99157148,  0.98895089],\n",
       "       [-0.99875369,  0.97106121,  0.97554634, -0.13369439, -0.68317437],\n",
       "       [-0.99963801,  0.56809822,  0.97480891, -0.58107956,  0.63001316],\n",
       "       [ 0.89629302,  0.14862598, -0.81082096,  0.97714841, -0.99898715]])"
      ]
     },
     "execution_count": 51,
     "metadata": {},
     "output_type": "execute_result"
    }
   ],
   "source": [
    "tanh(z)"
   ]
  },
  {
   "cell_type": "code",
   "execution_count": null,
   "id": "76daab3e",
   "metadata": {},
   "outputs": [],
   "source": []
  }
 ],
 "metadata": {
  "kernelspec": {
   "display_name": "fsds_env",
   "language": "python",
   "name": "python3"
  },
  "language_info": {
   "codemirror_mode": {
    "name": "ipython",
    "version": 3
   },
   "file_extension": ".py",
   "mimetype": "text/x-python",
   "name": "python",
   "nbconvert_exporter": "python",
   "pygments_lexer": "ipython3",
   "version": "3.7.10"
  }
 },
 "nbformat": 4,
 "nbformat_minor": 5
}
